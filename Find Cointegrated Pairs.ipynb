{
 "cells": [
  {
   "cell_type": "markdown",
   "metadata": {},
   "source": [
    "# Identify most cointegrated pair from the 10 largest companies in each of the 11 sectors\n",
    "\n",
    "## Author: Malik Jabati (May 7, 2019)"
   ]
  },
  {
   "cell_type": "code",
   "execution_count": 5,
   "metadata": {
    "scrolled": false
   },
   "outputs": [],
   "source": [
    "#First import some things we will need to run pipeline and get our data\n",
    "from quantopian.research import run_pipeline\n",
    "from quantopian.pipeline import Pipeline\n",
    "\n",
    "from quantopian.pipeline.data import Fundamentals\n",
    "\n",
    "from quantopian.pipeline.classifiers.morningstar import Sector\n",
    "from quantopian.pipeline.filters import Q1500US\n",
    "\n",
    "from quantopian.pipeline.data import morningstar\n",
    "from quantopian.pipeline.data import EquityPricing\n",
    "\n",
    "from quantopian.pipeline.factors.morningstar import MarketCap\n",
    "from quantopian.pipeline.factors import DailyReturns\n",
    "from quantopian.pipeline.filters import  StaticAssets\n",
    "\n",
    "import pandas as pd\n",
    "import statsmodels.tsa.stattools as sm"
   ]
  },
  {
   "cell_type": "code",
   "execution_count": 6,
   "metadata": {
    "scrolled": false
   },
   "outputs": [],
   "source": [
    "#sector = Fundamentals.morningstar_sector_code.latest\n",
    "#ticker = Fundamentals.primary_symbol.latest\n",
    "\n",
    "# Morningstar codes for all eleven sectors\n",
    "SectorCodes = {'Basic Materials': 101, 'Consumer Cyclical': 102, 'Financial Services': 103,\n",
    "               'Real Estate': 104, 'Consumer Defensive': 205, 'Healthcare': 206, 'Utilities': 207,\n",
    "               'Communication Services': 308, 'Energy': 309, 'Industrials': 310, 'Technology': 311}\n",
    "\n",
    "# Create an array of the the keys in the sector and sort alphabetically\n",
    "SectorKeys = SectorCodes.keys()\n",
    "SectorKeys.sort()\n",
    "\n",
    "# Going to fill this array with the top 500 largest firms (by market cap) separated by sector\n",
    "CompaniesInSector_pipe = []\n",
    "\n"
   ]
  },
  {
   "cell_type": "code",
   "execution_count": 7,
   "metadata": {
    "scrolled": false
   },
   "outputs": [],
   "source": [
    "\n",
    "\"\"\"\n",
    "Fill CompaniesInSector_pipe with pipelines containing sector\n",
    "and market cap data for the top 500 companies by sector\n",
    "\"\"\"\n",
    "\n",
    "for i in range(len(SectorCodes)):\n",
    "    def make_pipeline():\n",
    "        top_500 = morningstar.valuation.market_cap.latest.top(500)\n",
    "\n",
    "        return Pipeline(\n",
    "            columns={\n",
    "                \"sector\": Sector(),\n",
    "                \"market_cap\": MarketCap()\n",
    "                #,\"ticker\": ticker\n",
    "            },\n",
    "            screen=(top_500 & Sector().element_of([SectorCodes[SectorKeys[i]]]))\n",
    "        )\n",
    "\n",
    "    pipeline_output = run_pipeline(\n",
    "        make_pipeline(),\n",
    "        start_date=\"2018-01-01\",\n",
    "        end_date=\"2018-01-01\"\n",
    "    )\n",
    "\n",
    "    CompaniesInSector_pipe.append(pipeline_output.sort_values(by=\"market_cap\", ascending=False))"
   ]
  },
  {
   "cell_type": "code",
   "execution_count": 8,
   "metadata": {
    "scrolled": false
   },
   "outputs": [
    {
     "name": "stdout",
     "output_type": "stream",
     "text": [
      "Basic Materials\n",
      "[Equity(460 [APD]), Equity(863 [BHP]), Equity(1856 [CRH]), Equity(2427 [ECL]), Equity(5261 [NEM]), Equity(5488 [NUE]), Equity(6109 [POT]), Equity(6116 [PPG]), Equity(6272 [PX]), Equity(6584 [RIO]), Equity(6868 [SHW]), Equity(7998 [VMC]), Equity(8326 [WY]), Equity(12095 [PKX]), Equity(13197 [FCX]), Equity(14284 [SCCO]), Equity(17395 [MT]), Equity(22140 [MON]), Equity(22275 [SYT]), Equity(23536 [VALE]), Equity(24522 [TS]), Equity(25165 [BBL]), Equity(39546 [LYB]), Equity(45378 [VEDL]), Equity(51157 [DWDP])]\n",
      "\n",
      "\n",
      "Communication Services\n",
      "[Equity(766 [BCE]), Equity(1161 [BT]), Equity(1637 [CMCS_A]), Equity(1960 [CTL]), Equity(2938 [S]), Equity(6653 [T]), Equity(7386 [TEF]), Equity(8017 [VOD]), Equity(13017 [DISH]), Equity(13950 [TLK]), Equity(14298 [RCI]), Equity(15221 [SKM]), Equity(17657 [ORAN]), Equity(19258 [CCI]), Equity(19540 [VIV]), Equity(20281 [SBAC]), Equity(21596 [CHU]), Equity(21839 [VZ]), Equity(22176 [TU]), Equity(22414 [AMOV]), Equity(22416 [AMX]), Equity(24394 [CHA]), Equity(24760 [AMT]), Equity(25066 [CHL]), Equity(25310 [CHT]), Equity(25377 [DCM]), Equity(25468 [TI]), Equity(25469 [TI_A]), Equity(27357 [LBTY_A]), Equity(27358 [LBTY_B]), Equity(27608 [LBTY_K]), Equity(33698 [TMUS]), Equity(39095 [CHTR])]\n",
      "\n",
      "\n",
      "Consumer Cyclical\n",
      "[Equity(357 [TWX]), Equity(693 [AZO]), Equity(754 [BBY]), Equity(2190 [DIS]), Equity(2298 [DHI]), Equity(2673 [F]), Equity(3496 [HD]), Equity(3597 [HMC]), Equity(3971 [IP]), Equity(4521 [LOW]), Equity(4564 [LB]), Equity(4707 [MCD]), Equity(4823 [MGA]), Equity(4831 [MGM]), Equity(4963 [MHK]), Equity(5328 [NKE]), Equity(5530 [TFCF]), Equity(6546 [ROST]), Equity(6683 [SBUX]), Equity(7457 [TJX]), Equity(7543 [TM]), Equity(7949 [VFC]), Equity(7962 [CBS]), Equity(8857 [ORLY]), Equity(8863 [RCL]), Equity(11901 [SIRI]), Equity(12031 [RENX]), Equity(12099 [RELX]), Equity(12213 [TFCF_A]), Equity(13966 [WPP]), Equity(16841 [AMZN]), Equity(17787 [YUM]), Equity(19917 [BKNG]), Equity(23709 [NFLX]), Equity(24124 [WYNN]), Equity(24692 [CCL]), Equity(24698 [CUK]), Equity(24819 [EBAY]), Equity(25729 [CTRP]), Equity(25920 [MAR]), Equity(26658 [TTM]), Equity(26882 [LVS]), Equity(27543 [EXPE]), Equity(27970 [CBS_A]), Equity(39840 [TSLA]), Equity(40430 [GM]), Equity(41026 [GM_WSB]), Equity(42173 [APTV]), Equity(45993 [HLT]), Equity(47740 [BABA]), Equity(47888 [FCAU]), Equity(49515 [RACE])]\n",
      "\n",
      "\n",
      "Consumer Defensive\n",
      "[Equity(76 [TAP]), Equity(128 [ADM]), Equity(821 [BF_A]), Equity(822 [BF_B]), Equity(1332 [CCEP]), Equity(1582 [CL]), Equity(1616 [CLX]), Equity(1787 [COST]), Equity(3214 [GIS]), Equity(3450 [MNST]), Equity(3668 [HRL]), Equity(3695 [HSY]), Equity(4192 [K]), Equity(4263 [KMB]), Equity(4283 [KO]), Equity(4297 [KR]), Equity(4954 [MO]), Equity(5885 [PEP]), Equity(5938 [PG]), Equity(7285 [SYY]), Equity(7684 [TSN]), Equity(7767 [UL]), Equity(7784 [UN]), Equity(8089 [WBA]), Equity(8229 [WMT]), Equity(12652 [DLTR]), Equity(13841 [EL]), Equity(18006 [DEO]), Equity(18711 [FMX]), Equity(21090 [TGT]), Equity(22067 [STZ_B]), Equity(22802 [MDLZ]), Equity(24873 [STZ]), Equity(25298 [BTI]), Equity(27017 [TAP_A]), Equity(35902 [PM]), Equity(36118 [KDP]), Equity(38554 [BUD]), Equity(38936 [DG]), Equity(44909 [COTY]), Equity(45840 [ABEV]), Equity(49229 [KHC])]\n",
      "\n",
      "\n",
      "Energy\n",
      "[Equity(455 [APC]), Equity(2368 [DVN]), Equity(2564 [EOG]), Equity(3443 [HAL]), Equity(3895 [IMO]), Equity(5634 [OKE]), Equity(5729 [OXY]), Equity(6641 [SSL]), Equity(6928 [SLB]), Equity(7538 [TOT]), Equity(7591 [TRP]), Equity(7612 [ANDV]), Equity(7990 [VLO]), Equity(8214 [WMB]), Equity(8347 [XOM]), Equity(10533 [SU]), Equity(17436 [PXD]), Equity(19079 [EPD]), Equity(19374 [ENB]), Equity(19675 [BP]), Equity(21439 [PTR]), Equity(21735 [CNQ]), Equity(21916 [PBR]), Equity(22169 [SNP]), Equity(22426 [CEO]), Equity(22467 [PBR_A]), Equity(22844 [EQNR]), Equity(23112 [CVX]), Equity(23465 [ETP]), Equity(23998 [COP]), Equity(25002 [E]), Equity(27470 [RDS_B]), Equity(27487 [RDS_A]), Equity(28056 [ET]), Equity(33856 [CLR]), Equity(34440 [CXO]), Equity(36907 [EC]), Equity(39963 [WPZ]), Equity(40852 [KMI]), Equity(41636 [MPC]), Equity(42750 [PBA]), Equity(42788 [PSX]), Equity(51012 [BHGE])]\n",
      "\n",
      "\n",
      "Financial Services\n",
      "[Equity(185 [AFL]), Equity(239 [AIG]), Equity(438 [AON]), Equity(679 [AXP]), Equity(700 [BAC]), Equity(753 [BBVA]), Equity(780 [BCS]), Equity(812 [BEN]), Equity(903 [BK]), Equity(1010 [BNS]), Equity(1091 [BRK_A]), Equity(1335 [C]), Equity(2855 [FITB]), Equity(4094 [IX]), Equity(4221 [KEY]), Equity(4809 [MFC]), Equity(4849 [SPGI]), Equity(4914 [MMC]), Equity(5117 [MTB]), Equity(5479 [NTRS]), Equity(5950 [PGR]), Equity(6068 [PNC]), Equity(6704 [SCHW]), Equity(7041 [TRV]), Equity(7139 [STT]), Equity(7143 [SAN]), Equity(7152 [STI]), Equity(7590 [TROW]), Equity(8115 [WBK]), Equity(8151 [WFC]), Equity(8580 [CB]), Equity(11100 [BRK_B]), Equity(12002 [BMO]), Equity(12160 [COF]), Equity(13612 [BAP]), Equity(13732 [RY]), Equity(14064 [HIG]), Equity(14848 [AABA]), Equity(15596 [TD]), Equity(16586 [AMTD]), Equity(16850 [BBT]), Equity(17049 [ING]), Equity(17080 [MS]), Equity(17813 [CM]), Equity(20088 [GS]), Equity(20373 [HSBC]), Equity(20689 [BLK]), Equity(21271 [IBN]), Equity(21328 [SLF]), Equity(21418 [MET]), Equity(21677 [PUK]), Equity(22139 [MCO]), Equity(22613 [MUFG]), Equity(22857 [WLTW]), Equity(22899 [HDB]), Equity(23058 [CS]), Equity(23113 [DB]), Equity(23151 [PFG]), Equity(23227 [LYG]), Equity(23318 [NMR]), Equity(23328 [PRU]), Equity(23444 [ITUB]), Equity(23825 [TRI]), Equity(24475 [CME]), Equity(24838 [ALL]), Equity(25006 [JPM]), Equity(25010 [USB]), Equity(25541 [SHG]), Equity(25766 [LFC]), Equity(26126 [BBD]), Equity(27190 [GS_PRA]), Equity(27526 [PUK_PRA]), Equity(27676 [AMP]), Equity(27768 [GS_PRB]), Equity(27769 [GS_PRC]), Equity(27809 [ICE]), Equity(32146 [MA]), Equity(32843 [MFG]), Equity(33807 [IBKR]), Equity(34011 [DFS]), Equity(34067 [BX]), Equity(34833 [RBS]), Equity(34913 [RF]), Equity(35469 [GS_PRD]), Equity(35920 [V]), Equity(36972 [KB]), Equity(38815 [BSBR]), Equity(40338 [SMFG]), Equity(42623 [BBDO]), Equity(43436 [BSMX]), Equity(44616 [FRC_PRD]), Equity(44629 [GS_PRJ]), Equity(46850 [GS_PRK]), Equity(47415 [SYF]), Equity(47777 [CFG]), Equity(48129 [UBS]), Equity(49242 [PYPL]), Equity(49557 [RY_PRT]), Equity(49781 [GS_PRN]), Equity(49831 [HBAN_O]), Equity(50307 [ASB_PRD])]\n",
      "\n",
      "\n",
      "Healthcare\n",
      "[Equity(62 [ABT]), Equity(168 [AET]), Equity(368 [AMGN]), Equity(734 [BAX]), Equity(794 [BDX]), Equity(980 [BMY]), Equity(1131 [BSX]), Equity(1376 [CAH]), Equity(1406 [CELG]), Equity(1539 [CI]), Equity(2170 [DHR]), Equity(2618 [ESRX]), Equity(3212 [GILD]), Equity(3242 [GSK]), Equity(3718 [HUM]), Equity(3806 [BIIB]), Equity(4151 [JNJ]), Equity(4487 [LLY]), Equity(4758 [MDT]), Equity(4799 [CVS]), Equity(5029 [MRK]), Equity(5166 [MYL]), Equity(5511 [NVO]), Equity(5923 [PFE]), Equity(6413 [REGN]), Equity(7178 [SYK]), Equity(7407 [TEVA]), Equity(7493 [TMO]), Equity(7792 [UNH]), Equity(8045 [VRTX]), Equity(8572 [AGN]), Equity(10187 [INCY]), Equity(12350 [MCK]), Equity(14328 [ALXN]), Equity(18488 [SHPG]), Equity(19954 [AZN]), Equity(21382 [EW]), Equity(21536 [NVS]), Equity(21774 [ILMN]), Equity(22355 [ALGN]), Equity(22954 [ABC]), Equity(23047 [ZBH]), Equity(23103 [ANTM]), Equity(23283 [CNC]), Equity(23912 [SNY]), Equity(24757 [A]), Equity(24868 [FMS]), Equity(25339 [ISRG]), Equity(41047 [HCA]), Equity(41533 [GRFS]), Equity(43694 [ABBV]), Equity(44060 [ZTS]), Equity(44692 [IQV]), Equity(49040 [ANTX])]\n",
      "\n",
      "\n",
      "Industrials\n",
      "[Equity(630 [ADP]), Equity(698 [BA]), Equity(1251 [CAJ]), Equity(1267 [CAT]), Equity(1792 [CP]), Equity(1937 [CSX]), Equity(1985 [CMI]), Equity(2127 [DE]), Equity(2530 [EMR]), Equity(2633 [ETN]), Equity(2765 [FDX]), Equity(2853 [FISV]), Equity(3136 [GD]), Equity(3149 [GE]), Equity(4010 [IR]), Equity(4080 [ITW]), Equity(4589 [LUV]), Equity(4922 [MMM]), Equity(5387 [NOC]), Equity(5442 [NSC]), Equity(5767 [PAYX]), Equity(5787 [PCAR]), Equity(5956 [PH]), Equity(5965 [PHG]), Equity(6536 [ROK]), Equity(6543 [ROP]), Equity(6583 [RTN]), Equity(7242 [SWK]), Equity(7679 [JCI]), Equity(7800 [UNP]), Equity(7883 [UTX]), Equity(12691 [LMT]), Equity(16178 [CNI]), Equity(17116 [RYAA_Y]), Equity(19147 [RSG]), Equity(19181 [WM]), Equity(20940 [UPS]), Equity(22574 [ABB]), Equity(22876 [FIS]), Equity(22880 [COL]), Equity(25090 [HON]), Equity(26406 [GOL]), Equity(28051 [UAL]), Equity(33729 [DAL]), Equity(38453 [WCN]), Equity(40597 [FLT]), Equity(45538 [CNHI]), Equity(45971 [AAL]), Equity(47163 [INFO])]\n",
      "\n",
      "\n",
      "Real Estate\n",
      "[Equity(3488 [WELL]), Equity(8817 [GGP]), Equity(9540 [EQR]), Equity(10528 [SPG]), Equity(17009 [BXP]), Equity(18821 [VTR]), Equity(18834 [AVB]), Equity(21475 [BAM]), Equity(24482 [EQIX]), Equity(24785 [PLD]), Equity(24962 [PSA]), Equity(26758 [DLR]), Equity(43079 [PSA_PRU]), Equity(43428 [PSA_PRV]), Equity(44289 [PSA_PRX]), Equity(44469 [DLR_PRG]), Equity(46570 [PSA_PRYCL]), Equity(46661 [DLR_PRHCL]), Equity(47074 [PSA_PRZ]), Equity(48143 [PSA_PRA]), Equity(49372 [DLR_PRI]), Equity(49723 [PSA_PRB]), Equity(49977 [PSA_PRC])]\n",
      "\n",
      "\n",
      "Technology\n",
      "[Equity(24 [AAPL]), Equity(67 [ADSK]), Equity(114 [ADBE]), Equity(122 [ADI]), Equity(337 [AMAT]), Equity(465 [APH]), Equity(1419 [CERN]), Equity(1900 [CSCO]), Equity(2602 [EA]), Equity(3241 [GLW]), Equity(3735 [HPQ]), Equity(3766 [IBM]), Equity(3951 [INTC]), Equity(4337 [KYO]), Equity(4537 [LRCX]), Equity(5061 [MSFT]), Equity(5121 [MU]), Equity(5692 [ORCL]), Equity(6295 [QCOM]), Equity(6984 [SNE]), Equity(7272 [SYMC]), Equity(7671 [TXN]), Equity(8132 [WDC]), Equity(8655 [INTU]), Equity(8677 [MCHP]), Equity(9883 [ATVI]), Equity(11673 [NOK]), Equity(12378 [STM]), Equity(12626 [ASML]), Equity(15101 [CHKP]), Equity(17773 [TSM]), Equity(18870 [CTSH]), Equity(19250 [SAP]), Equity(19725 [NVDA]), Equity(19894 [INFY]), Equity(20541 [RHT]), Equity(21669 [NTES]), Equity(22181 [WIT]), Equity(23821 [SWKS]), Equity(24074 [ERIC]), Equity(25555 [ACN]), Equity(26401 [CRM]), Equity(26578 [GOOG_L]), Equity(27533 [BIDU]), Equity(34014 [TEL]), Equity(34545 [VMW]), Equity(38650 [AVGO]), Equity(39994 [NXPI]), Equity(42950 [FB]), Equity(43127 [NOW]), Equity(43510 [WDAY]), Equity(45815 [TWTR]), Equity(46631 [GOOG]), Equity(46779 [WB]), Equity(46979 [JD]), Equity(47063 [ANET]), Equity(49506 [HPE]), Equity(50049 [FTV]), Equity(50683 [SNAP]), Equity(50716 [DXC])]\n",
      "\n",
      "\n",
      "Utilities\n",
      "[Equity(161 [AEP]), Equity(2071 [D]), Equity(2330 [DTE]), Equity(2351 [DUK]), Equity(2434 [ED]), Equity(2968 [NEE]), Equity(5484 [ES]), Equity(5792 [PCG]), Equity(5862 [PEG]), Equity(6119 [PPL]), Equity(7011 [SO]), Equity(8140 [WEC]), Equity(12065 [KEP]), Equity(14372 [EIX]), Equity(20759 [NGG]), Equity(21964 [XEL]), Equity(22114 [EXC]), Equity(24778 [SRE])]\n",
      "\n",
      "\n"
     ]
    }
   ],
   "source": [
    "\"\"\"\n",
    "Fill CompaniesInSector with Quantopian trading symbols and IDs for the top 500 companies by sector\n",
    "\"\"\"\n",
    "\n",
    "CompaniesInSector = []\n",
    "\n",
    "for i in range(len(CompaniesInSector_pipe)):\n",
    "    print(SectorKeys[i])        \n",
    "    candidates = CompaniesInSector_pipe[i].iloc[:5].index #creates a multiindex\n",
    "    candidates = candidates.levels[1].tolist() #gets equity level index and turns to list of equity objects\n",
    "    \n",
    "    CompaniesInSector.append(candidates)\n",
    "    \n",
    "    print(candidates)\n",
    "    print('\\n')"
   ]
  },
  {
   "cell_type": "code",
   "execution_count": 65,
   "metadata": {},
   "outputs": [
    {
     "name": "stdout",
     "output_type": "stream",
     "text": [
      "['Basic Materials', 'Communication Services', 'Consumer Cyclical', 'Consumer Defensive', 'Energy', 'Financial Services', 'Healthcare', 'Industrials', 'Real Estate', 'Technology', 'Utilities']\n"
     ]
    }
   ],
   "source": [
    "print(SectorKeys)"
   ]
  },
  {
   "cell_type": "code",
   "execution_count": 66,
   "metadata": {},
   "outputs": [
    {
     "name": "stdout",
     "output_type": "stream",
     "text": [
      "Equity(460 [APD])\n",
      "[[0, 2.5147075984854479, 0, 2.7926396272831555, 0, 0, 2.203682694123938, 0, 0, 3.0106647100769877], [2.5422890249097962, 0, 0, 0, 0, 0, 0, 0, 3.9565729218106283, 0], [0, 0, 0, 0, 0, 0, 0, 2.8703045289419369, 0, 0], [3.4878536917315746, 2.9011308437701389, 2.6723721444339206, 0, 2.8160486171223851, 2.6890117272212843, 3.0546857686353568, 2.9163759623022916, 2.6798763359966289, 3.2072561054489119], [3.2452072092425444, 3.1268750335174356, 3.174834370472523, 3.2196915584684915, 0, 3.6225522505608594, 3.139282324543395, 3.2377724016530713, 3.1310656858337138, 3.1947919823586295], [2.2565151886347525, 2.2546395621194426, 2.5746417650843529, 2.2501170232113235, 2.9156691936671719, 0, 2.3587532700025511, 2.4423100459207125, 2.3711927944938571, 2.3466060431653708], [2.7265470078845579, 2.2843881526468843, 2.3927152291777323, 2.7507509078050001, 2.3760537616505117, 2.4437504914309338, 0, 2.4082359212531137, 2.4930221808576891, 2.9451379125947637], [0, 0, 2.8450822563685421, 0, 0, 0, 0, 0, 0, 0], [2.158535112341236, 4.0889372566101372, 2.0574091581703104, 0, 2.0555483852015515, 2.1545855808339649, 2.1934645651749851, 0, 0, 2.227454591833975], [2.8572578446021621, 0, 0, 2.2433100076088626, 0, 0, 2.2764920992296362, 0, 0, 0]]\n",
      "\n",
      "\n",
      "[[0, 0, 0, 0, nan, 2.8971949423570593, 0, 3.4783821071425551, 2.0980973918480159, 2.2728451431003518], [0, 0, 0, 3.0953080371763133, nan, 2.656984093238679, 0, 0, 4.3223834767437523, 2.0638576174108318], [0, 0, 0, 0, nan, 0, 0, 0, 0, 0], [0, 3.5169935018004304, 2.0720703363209618, 0, nan, 2.1478264737507073, 0, 2.1746746018742398, 4.5983726711866542, 3.2362880685876227], [nan, nan, nan, nan, 0, nan, nan, nan, nan, nan], [2.9234413533466808, 3.1662126353380486, 0, 2.1514162070901341, nan, 0, 0, 3.6668362606339233, 3.1059316368055345, 2.6293601935163404], [0, 0, 2.0752994165589391, 0, nan, 0, 0, 0, 0, 0], [3.4825171820327956, 2.2638417284431034, 0, 2.1483987206250839, nan, 3.6482818053858974, 0, 0, 2.5518961667809679, 3.0930865175784619], [0, 4.4249820324599529, 0, 4.3784880455933344, nan, 2.7599723832870873, 0, 2.1654968233784793, 0, 2.7166640593595628], [2.6234687211429892, 2.9262076017153107, 2.2080014957475851, 3.4755061689956519, nan, 2.9051846317611512, 2.0628178916224389, 3.3544812594980442, 3.3039068647976522, 0]]\n",
      "\n",
      "\n",
      "[[0, 0, 0, 0, 0, 0, 0, 0, 0, 0], [2.2366142316985509, 0, 2.8017417165492438, 2.2059737373541513, 2.5504916201280552, 0, 2.5295513379212444, 0, 2.4548061658420695, 2.5830528397327521], [0, 2.783922160962649, 0, 2.1523935490272614, 3.3357519319870241, 2.2797518455625752, 2.9523572862672829, 3.162611206009609, 3.0959188309736745, 2.7589369250083737], [0, 2.335268914997326, 2.3004190727473159, 0, 2.3435625335536794, 2.9897080632891999, 2.5034135167791911, 3.7554464099602041, 3.7722209353500418, 2.0892440239042189], [2.0999601144986655, 2.5914291841713095, 3.646353599507917, 2.7079010334550411, 0, 0, 3.2850005528928556, 2.7036744015293595, 2.39888446603377, 2.4974349809562915], [0, 0, 0, 2.4441284074894076, 0, 0, 0, 3.2613245561655475, 0, 0], [0, 2.4095561389258582, 2.9204376841394133, 2.3672720140957755, 3.1430977525159869, 0, 0, 2.6803379000551986, 2.3820422619964914, 2.1125076475964848], [2.6283298387190079, 2.5980527854072437, 3.5731311794155087, 4.0269192360360044, 2.923281366555381, 3.948046931472327, 3.1927317151299315, 0, 3.6934633798913112, 2.5791412678749088], [0, 0, 2.7498419870757771, 3.4073628326031495, 0, 0, 0, 2.9755837754602181, 0, 0], [2.6524218280591851, 2.9566885695198537, 3.4612781662975358, 2.816384150458493, 2.8392478585366892, 2.4992049506150344, 2.755795052221766, 2.8304885254681569, 2.7272293949249997, 0]]\n",
      "\n",
      "\n",
      "[[0, 0, nan, 2.199809931267438, 0, 0, 2.9451986632997786, 0, 0, 0], [2.5745008233208977, 0, nan, 2.8170331056765567, 3.0343037858296404, 2.152058449134806, 2.3127344742855729, 2.2490495451395978, 2.7539645035940135, 2.5357800106465498], [nan, nan, 0, nan, nan, nan, nan, nan, nan, nan], [0, 2.126180824541259, nan, 0, 0, 0, 0, 0, 0, 0], [0, 2.3497899647010176, nan, 0, 0, 0, 0, 0, 0, 0], [2.11891965936992, 0, nan, 0, 0, 0, 0, 2.1656894546931094, 2.6934047633248279, 2.3085267154894846], [3.7648810883221864, 2.8855331497313705, nan, 3.170924199695917, 3.2829442146103314, 2.7429577089180301, 0, 2.7495009684214526, 2.818179741253604, 2.9188037648646223], [2.2806158922482127, 2.2661186252597356, nan, 2.5884642442101691, 2.5201742962137188, 2.5090453330371676, 2.1586840257461133, 0, 2.2732190530068221, 2.3059974286900942], [0, 2.2826470153201752, nan, 0, 0, 2.565487975521715, 0, 0, 0, 2.5987244224750237], [2.6183750957844301, 2.7825384449053199, nan, 2.6949870672095324, 2.5689231283707348, 2.8751251466439167, 2.6283372244071348, 2.5706219693693799, 3.1976942266776005, 0]]\n",
      "\n",
      "\n",
      "[[0, 2.435270305061509, 2.524945226111468, 3.2148626239534077, 2.9124407417149172, 2.4396379690656427, 3.2449983684778636, 2.7691610120346102, 2.7821008337415285, 4.6285041920870693], [0, 0, 2.215397792388508, 0, 2.061351360999776, 2.2322180134332945, 0, 3.1200329827851894, 2.4218901248082054, 2.0576194211091612], [0, 2.2050937751461706, 0, 0, 0, 2.0844595997711912, 0, 3.2543632483310168, 0, 0], [2.8193975357223908, 0, 0, 0, 3.5189314202857691, 0, 2.6378623060150646, 0, 2.2173564110288941, 3.5119128275174596], [3.1735462786043791, 2.8340632459040807, 2.8329699839191176, 4.0749921457716569, 0, 2.771358509078103, 3.3178410451472362, 3.0379275988268386, 3.4255816627177516, 7.3135673879848389], [0, 0, 0, 0, 0, 0, 0, 0, 2.2993987721655462, 0], [3.153420728460226, 2.1077575344635622, 2.1747098859052163, 3.0041018494558673, 2.9417468700797031, 2.290160975394381, 0, 2.3072419098133112, 2.2132864519250157, 2.5319290943132891], [2.5792445138793951, 3.280267355558609, 3.4229527306022867, 2.4260713146767228, 2.5158298818466824, 2.5505316195466565, 2.3064578912289355, 0, 3.0242007237983612, 2.3912650153135639], [2.6765808837631946, 2.5992502619204605, 2.2690280359903539, 2.6028867599304761, 3.0461739920912785, 2.7033946290625299, 2.1753252736750559, 3.0048581148977718, 0, 3.2022983940008309], [4.7116584668450772, 2.6649001589738051, 2.6186888125096965, 3.9509961748973779, 7.2467011662698768, 2.7285913782214442, 2.7999021791328014, 2.7915171733051025, 3.4286339474161096, 0]]\n",
      "\n",
      "\n",
      "[[0, 2.0596615702048111, 2.2630986369731905, 0, 0, 0, 0, 0, 2.8095284545449384, 2.4310868797051648], [0, 0, 0, 3.8529546259552903, 2.1663198299864055, 3.6749986324199564, 3.2641710672941686, 2.4737804748745749, 2.4175534253550479, 0], [3.1589044450525732, 2.9021564281542944, 0, 2.8848608222272589, 2.9080557201662032, 2.8317553001387989, 2.9436503563045884, 2.7672302779810569, 2.7969772137134754, 2.8336062145836509], [0, 3.9013617293517919, 0, 0, 0, 3.8208139121289664, 2.7800530585158598, 2.1835202698841143, 2.2022997671199303, 0], [0, 0, 0, 0, 0, 0, 2.7680986330719066, 0, 2.1527279002327098, 0], [0, 3.7333247154055607, 0, 3.838980838337219, 2.157673260367182, 0, 2.1465716125521848, 2.4190928991127389, 2.4606274463610096, 0], [0, 3.1407512687727386, 0, 2.5887699620901716, 2.7736943318247889, 0, 0, 0, 2.0834392762294094, 0], [0, 2.8167913066583856, 0, 2.4937777257376768, 0, 2.6750680405849638, 0, 0, 0, 3.1844565339565589], [3.2870378939673222, 3.3105085009534894, 2.4203209886321475, 3.1080629567203393, 3.2590087086069213, 3.2791547015242255, 3.2117089168879005, 2.5482466144029225, 0, 2.9700772800426223], [2.3236072516339856, 2.2602315358938245, 0, 2.2180976877564738, 0, 2.2541111843271855, 0, 3.17972462991021, 2.3318707818404905, 0]]\n",
      "\n",
      "\n",
      "[[0, 2.8796120733591191, 3.2495770952783594, 3.4688583712444374, 3.8368210180757494, 2.7240613147601969, 2.8736146045619697, 2.8210228805773352, 3.988654362229791, 2.8337726382381923], [3.8368669780240965, 0, 3.4330409980463816, 3.5967142559719072, 4.17468277620452, 4.3430805276082571, 3.6428742534490217, 4.6108160739455668, 3.8933651839909564, 3.8878108716502009], [2.9199021410167099, 2.1228252004589443, 0, 3.3089920490614562, 3.0304130727719376, 2.4806950379589643, 2.4179503919524725, 2.4221854747586011, 2.7159074789131377, 3.0453377862232922], [2.8556263700919575, 0, 3.0189130480266604, 0, 2.5015003627873416, 2.0709219396834397, 2.4778801117194775, 2.1871074366047591, 3.3158480118647304, 2.4350290716424814], [3.4887971114874494, 2.74131823503952, 2.9454312311727788, 2.7568789900950104, 0, 2.2212745668588934, 2.3006707675717184, 2.3092059087608647, 3.5782517459900758, 2.3186973751957667], [0, 2.7940648719013259, 0, 0, 0, 0, 2.2236235960259978, 2.2789791084317099, 0, 2.3410806613939061], [2.1319138593582263, 2.2723666028913492, 0, 2.5000187604677637, 2.1103114003817232, 2.49529815949621, 0, 3.2872810470959783, 2.2580812109864135, 3.2949712719084303], [0, 2.7087061888582076, 0, 0, 0, 0, 2.461794453878329, 0, 0, 0], [4.1850317763021696, 3.4602551266771728, 3.337480004352475, 4.0681940131811052, 4.1552387647499049, 3.1314548530190587, 3.1484293602379521, 3.1187280231246137, 0, 3.1830569665714035], [0, 0, 2.346557005787413, 0, 0, 0, 2.9287772413747266, 2.4075331906770687, 0, 0]]\n",
      "\n",
      "\n"
     ]
    },
    {
     "name": "stdout",
     "output_type": "stream",
     "text": [
      "[[0, 4.0406168961882099, 3.4684482241740424, 3.3803423146466662, 2.9421881006424413, 2.33599889383756, 5.1543800646186906, 4.0309744255531275, 2.7812090935376501, 3.2985781398543157], [3.3371269087849118, 0, 2.0792406418536351, 2.0772734111979521, 2.0646395823483346, 0, 2.8353041211954584, 4.4560794749701165, 0, 2.8715767599268514], [2.9672316460147554, 2.5038926426710155, 0, 2.6898734341633475, 0, 0, 3.1835294861669046, 2.3180294185146511, 2.8531459950226217, 2.0994247583065868], [2.7118113351239423, 2.3169517993482232, 2.5237548833330785, 0, 2.7349121498672258, 0, 0, 2.2525279418312896, 0, 2.7004005863088216], [2.4269272121935797, 2.5596805278994093, 0, 2.9539008922988002, 0, 0, 0, 2.7579436197757254, 0, 4.0703432178682082], [0, 0, 2.3789744646860771, 2.3853797869358178, 2.081126268900698, 0, 0, 0, 2.1366240511172689, 0], [4.7872594911277071, 3.102632489245297, 3.1290910759565724, 0, 0, 0, 0, 3.0158249650227327, 2.2433093819703998, 0], [3.5762490417253558, 4.6498154861489249, 2.2675913027913768, 2.3920815922635712, 2.6524070674527769, 0, 3.0388576315455231, 0, 0, 3.5414723098863647], [2.1659586708897396, 0, 2.8800048764341168, 2.0683592087490852, 0, 0, 2.3596446828156883, 0, 0, 0], [2.6024205380324008, 3.0452375320290948, 0, 2.6934868793891327, 3.9066707552141335, 0, 0, 3.4418462301362234, 0, 0]]\n",
      "\n",
      "\n",
      "[[0, nan, 2.8813619851258148, 3.1561119852233723, 2.9956278557727058, 3.9224228690862319, 3.0087158293202574, 3.2819352637560879, 3.6546036668850812, 3.1855011188625446], [nan, 0, nan, nan, nan, nan, nan, nan, nan, nan], [0, nan, 0, 0, 3.0360212737710275, 0, 3.5262672465847387, 4.0656378948319967, 0, 2.8612882544991254], [0, nan, 0, 0, 3.323567472805192, 0, 2.3031307296855679, 3.1154873071998739, 0, 2.6365450731303519], [0, nan, 2.8193960020346074, 3.1714807973272316, 0, 0, 3.2301477139810264, 3.3613595667745839, 0, 3.4556708212010698], [3.3419141238277126, nan, 0, 2.5664306357986213, 2.1785361091250408, 0, 2.202525948830905, 2.6390612804166871, 3.0782987995432189, 2.4230059052638064], [0, nan, 3.3329910487277394, 2.0617754797783019, 3.2222545261820681, 0, 0, 3.7319601312722517, 0, 2.5317940932864231], [0, nan, 3.8913328194018324, 2.9295767889500155, 3.3593737247160838, 0, 3.7301360707434128, 0, 0, 2.9076709448227307], [2.6158546303836547, nan, 0, 0, 0, 2.6714780289483731, 0, 0, 0, 0], [0, nan, 2.3022985744273377, 2.100150686577074, 3.2028519373410078, 0, 2.1960887095603008, 2.6254886737334346, 0, 0]]\n",
      "\n",
      "\n",
      "[[0, 0, 0, 0, 0, 0, 4.2887044969518735, 0, 0, 0], [0, 0, 2.6906931041234268, 2.3928437400448721, 3.7400601885932976, 0, 0, 3.189839473318127, 3.0213175070721876, 2.9161702833483791], [0, 2.9505500787493784, 0, 2.9233775384050347, 3.0989176743668088, 0, 0, 3.6849883438261575, 2.1111137787570406, 2.6664089695868416], [0, 2.649745734987671, 2.9046514676351847, 0, 2.7772143237645541, 2.1121122788978473, 0, 2.6339462501542186, 2.0704723377438543, 3.7156065823351572], [0, 3.8410552877216739, 2.9851722177885684, 2.6771068027618306, 0, 0, 0, 2.7205610945625698, 3.5550850296307441, 3.8426048604074574], [0, 0, 0, 2.1129617158671667, 0, 0, 0, 0, 0, 0], [5.2417112516523829, 2.8815994142079551, 3.0831955826490955, 2.9053565067060609, 2.9652958799939642, 2.9940340373609859, 0, 3.7265120064517605, 3.2876075080691236, 2.9752702350921107], [0, 3.5317806241351537, 3.8040641106393269, 2.8116550239249838, 2.9976009059842879, 0, 3.0296785032680678, 0, 2.4318855337959069, 2.2811317047309174], [0, 2.7253435354638591, 0, 0, 3.1850836922193766, 0, 0, 0, 0, 2.2082522421033679], [0, 3.0205008527209163, 2.505080053561263, 3.6132492035542483, 3.8242550447896129, 0, 0, 0, 2.6739780717159376, 0]]\n",
      "\n",
      "\n",
      "[[0, 0, 2.214417979387953, 0, 0, 0, 2.4177803257933466, 0, 2.3832812911275796, 0], [0, 0, 0, 0, 2.6677397156252822, 0, 0, 2.3873901450762736, 2.6533274735796688, 0], [2.3562532875370974, 2.2866691441049705, 0, 0, 2.3580766604190888, 0, 2.181672598194579, 2.6322822586205694, 2.3567267486476102, 0], [0, 2.0952022472884324, 0, 0, 0, 2.1008285279386345, 0, 0, 0, 0], [2.285495046210817, 3.167312630937789, 2.6971790348289644, 2.1351106173113905, 0, 0, 2.4168020275361255, 3.1919417751383974, 3.1208773266200671, 0], [2.1258900745245195, 2.0682264411788167, 0, 2.4375406876789203, 0, 0, 2.2330014844550514, 0, 2.120814322759665, 2.2791598680957543], [2.8171462971225436, 2.1671631060871404, 2.5248313549347547, 0, 2.4267451407022338, 2.1277475270488537, 0, 2.563314507167247, 2.3677179768291845, 0], [2.805144943887059, 3.2799218585744541, 3.2726841383283922, 2.5088836526954683, 3.4946557830049634, 2.1787173474942811, 3.0265744749357215, 0, 3.2814455685592234, 2.2542539500916061], [2.2225540076138834, 2.6178692866073647, 2.0606234255265505, 0, 2.5902805401037705, 0, 0, 2.3616514884462387, 0, 0], [2.0830661298632664, 0, 0, 0, 0, 0, 0, 0, 0, 0]]\n",
      "\n",
      "\n"
     ]
    }
   ],
   "source": [
    "# Get the latest daily close price for all equities.\n",
    "yesterday_close = EquityPricing.close.latest\n",
    "\n",
    "def prices_pipeline(asset):\n",
    "# Get prices for a particular asset\n",
    "    return Pipeline(\n",
    "        columns={\n",
    "            \"close\": yesterday_close\n",
    "        },\n",
    "        screen = asset\n",
    "    )\n",
    "\n",
    "\n",
    "CointMatrix = []\n",
    "\n",
    "#CointMatrix = [[[0 for x in range(10)] for y in range(10)] for z in range(len(CompaniesInSector))]\n",
    "\n",
    "for z in range(len(CompaniesInSector)):\n",
    "\n",
    "    #Create empty 10x10 cointegration matrix\n",
    "    CointMatrix_temp = [[0 for x in range(10)] for y in range(10)]\n",
    "\n",
    "    CointMatrix.append(CointMatrix_temp)\n",
    "\n",
    "    # Only look for pairs in the 10 largest firms (by market cap) in each sector\n",
    "    for i in range(10):\n",
    "        for j in range(10):    \n",
    "            #First grab prices for data set\n",
    "            asset_x = StaticAssets([CompaniesInSector[z][i]])\n",
    "            asset_y = StaticAssets([CompaniesInSector[z][j]])\n",
    "\n",
    "            ##Use daily returns for the four years before the start of the backtest\n",
    "            pipeline_output_x = run_pipeline(\n",
    "                prices_pipeline(asset_x),\n",
    "                start_date=\"2006-01-01\",\n",
    "                end_date=\"2010-01-01\"\n",
    "            )\n",
    "\n",
    "            pipeline_output_y = run_pipeline(\n",
    "                prices_pipeline(asset_y),\n",
    "                start_date=\"2006-01-01\",\n",
    "                end_date=\"2010-01-01\"\n",
    "            )\n",
    "\n",
    "            prices_x = pipeline_output_x['close']\n",
    "            prices_y = pipeline_output_y['close']\n",
    "\n",
    "            try:\n",
    "                #Then cointegrate price series\n",
    "                t_stat, p_value, _ = sm.coint(prices_x, prices_y)\n",
    "\n",
    "                if i==j:\n",
    "                    CointMatrix[z][i][j] = 0\n",
    "                elif p_value > 0.5:\n",
    "                    CointMatrix[z][i][j] = 0\n",
    "                else:\n",
    "                    CointMatrix[z][i][j] = abs(t_stat)\n",
    "            except:\n",
    "                CointMatrix[z][i][j] = 0\n",
    "                \n",
    "\n",
    "    print(CointMatrix[z])\n",
    "    print('\\n')"
   ]
  },
  {
   "cell_type": "code",
   "execution_count": 67,
   "metadata": {},
   "outputs": [
    {
     "name": "stdout",
     "output_type": "stream",
     "text": [
      "[(8, 1), (3, 8), (7, 3), (6, 0), (4, 9), (3, 1), (1, 7), (0, 6), (2, 7), (6, 0), (7, 4)]\n"
     ]
    }
   ],
   "source": [
    "PairsLocation = []\n",
    "\n",
    "for z in range(len(CompaniesInSector)):\n",
    "\n",
    "    max = 0\n",
    "    stock_a = stock_b = -1\n",
    "\n",
    "    for i in range(10):\n",
    "        for j in range(10):\n",
    "            if CointMatrix[z][i][j] > max:\n",
    "                max = CointMatrix[z][i][j]\n",
    "                stock_a = i\n",
    "                stock_b = j\n",
    "\n",
    "    PairsLocation.append((stock_a, stock_b))\n",
    "            \n",
    "print(PairsLocation)\n"
   ]
  },
  {
   "cell_type": "code",
   "execution_count": 72,
   "metadata": {},
   "outputs": [
    {
     "name": "stdout",
     "output_type": "stream",
     "text": [
      "('Basic Materials', Equity(6272 [PX]), Equity(863 [BHP]), 4.0889372566101372)\n",
      "\n",
      "\n",
      "('Communication Services', Equity(1960 [CTL]), Equity(13017 [DISH]), 4.5983726711866542)\n",
      "\n",
      "\n",
      "('Consumer Cyclical', Equity(3597 [HMC]), Equity(2190 [DIS]), 4.0269192360360044)\n",
      "\n",
      "\n",
      "('Consumer Defensive', Equity(1616 [CLX]), Equity(76 [TAP]), 3.7648810883221864)\n",
      "\n",
      "\n",
      "('Energy', Equity(3895 [IMO]), Equity(7538 [TOT]), 7.3135673879848389)\n",
      "\n",
      "\n",
      "('Financial Services', Equity(679 [AXP]), Equity(239 [AIG]), 3.9013617293517919)\n",
      "\n",
      "\n",
      "('Healthcare', Equity(168 [AET]), Equity(1376 [CAH]), 4.6108160739455668)\n",
      "\n",
      "\n",
      "('Industrials', Equity(630 [ADP]), Equity(1985 [CMI]), 5.1543800646186906)\n",
      "\n",
      "\n",
      "('Real Estate', Equity(9540 [EQR]), Equity(21475 [BAM]), 4.0656378948319967)\n",
      "\n",
      "\n",
      "('Technology', Equity(1419 [CERN]), Equity(24 [AAPL]), 5.2417112516523829)\n",
      "\n",
      "\n",
      "('Utilities', Equity(5792 [PCG]), Equity(2434 [ED]), 3.4946557830049634)\n",
      "\n",
      "\n"
     ]
    }
   ],
   "source": [
    "SectorPairs = []\n",
    "\n",
    "for z in range(len(CompaniesInSector)):\n",
    "    i = PairsLocation[z][0]\n",
    "    j = PairsLocation[z][1]\n",
    "    SectorPairs.append((SectorKeys[z], CompaniesInSector[z][i],\n",
    "                        CompaniesInSector[z][j], CointMatrix[z][i][j]))\n",
    "    \n",
    "    print(SectorPairs[z])\n",
    "    print('\\n')"
   ]
  },
  {
   "cell_type": "code",
   "execution_count": null,
   "metadata": {},
   "outputs": [],
   "source": []
  }
 ],
 "metadata": {
  "kernelspec": {
   "display_name": "Python 2",
   "language": "python",
   "name": "python2"
  },
  "language_info": {
   "codemirror_mode": {
    "name": "ipython",
    "version": 2
   },
   "file_extension": ".py",
   "mimetype": "text/x-python",
   "name": "python",
   "nbconvert_exporter": "python",
   "pygments_lexer": "ipython2",
   "version": "2.7.12"
  }
 },
 "nbformat": 4,
 "nbformat_minor": 2
}